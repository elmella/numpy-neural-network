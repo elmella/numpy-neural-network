{
 "cells": [
  {
   "cell_type": "code",
   "execution_count": 21,
   "metadata": {},
   "outputs": [],
   "source": [
    "import numpy as np\n",
    "from sklearn.datasets import fetch_openml\n",
    "from sklearn.model_selection import train_test_split\n",
    "import matplotlib.pyplot as plt\n",
    "from itertools import combinations\n",
    "from xgboost import XGBClassifier"
   ]
  },
  {
   "cell_type": "code",
   "execution_count": 3,
   "metadata": {},
   "outputs": [
    {
     "name": "stderr",
     "output_type": "stream",
     "text": [
      "/opt/homebrew/lib/python3.10/site-packages/sklearn/datasets/_openml.py:1022: FutureWarning: The default value of `parser` will change from `'liac-arff'` to `'auto'` in 1.4. You can set `parser='auto'` to silence this warning. Therefore, an `ImportError` will be raised from 1.4 if the dataset is dense and pandas is not installed. Note that the pandas parser may return different data types. See the Notes Section in fetch_openml's API doc for details.\n",
      "  warn(\n"
     ]
    }
   ],
   "source": [
    "# load the data\n",
    "mnist = fetch_openml('mnist_784')"
   ]
  },
  {
   "cell_type": "code",
   "execution_count": 4,
   "metadata": {},
   "outputs": [],
   "source": [
    "# data\n",
    "X = mnist.data.to_numpy() / 255.0\n",
    "\n",
    "# target\n",
    "y = mnist.target.to_numpy().astype(int)"
   ]
  },
  {
   "cell_type": "code",
   "execution_count": 14,
   "metadata": {},
   "outputs": [
    {
     "name": "stdout",
     "output_type": "stream",
     "text": [
      "Epoch:  0\n",
      "Accuracy:  0.109\n",
      "Epoch:  10\n",
      "Accuracy:  0.6209\n",
      "Epoch:  20\n",
      "Accuracy:  0.722\n",
      "Epoch:  30\n",
      "Accuracy:  0.7650833333333333\n",
      "Epoch:  40\n",
      "Accuracy:  0.7899\n",
      "Epoch:  50\n",
      "Accuracy:  0.8072666666666667\n",
      "Epoch:  60\n",
      "Accuracy:  0.8203333333333334\n",
      "Epoch:  70\n",
      "Accuracy:  0.8305666666666667\n",
      "Epoch:  80\n",
      "Accuracy:  0.8392\n",
      "Epoch:  90\n",
      "Accuracy:  0.8467\n",
      "Epoch:  100\n",
      "Accuracy:  0.8536333333333334\n",
      "Epoch:  110\n",
      "Accuracy:  0.85945\n",
      "Epoch:  120\n",
      "Accuracy:  0.86465\n",
      "Epoch:  130\n",
      "Accuracy:  0.86915\n",
      "Epoch:  140\n",
      "Accuracy:  0.8732166666666666\n",
      "Epoch:  150\n",
      "Accuracy:  0.8768666666666667\n",
      "Epoch:  160\n",
      "Accuracy:  0.8802833333333333\n",
      "Epoch:  170\n",
      "Accuracy:  0.8830833333333333\n",
      "Epoch:  180\n",
      "Accuracy:  0.8860666666666667\n",
      "Epoch:  190\n",
      "Accuracy:  0.8887\n"
     ]
    }
   ],
   "source": [
    "def load_data():\n",
    "    \"\"\"\n",
    "    Load the data and split it into training and testing sets, then transpose them\n",
    "    \"\"\"\n",
    "    X_train, X_test, y_train, y_test = train_test_split(X, y, test_size=10000, random_state=42)\n",
    "    X_train = X_train.T\n",
    "    X_test = X_test.T\n",
    "    return X_train, y_train, X_test, y_test\n",
    "\n",
    "\n",
    "def one_hot(Y):\n",
    "    \"\"\"\n",
    "    Convert the target to one-hot encoding for the output layer, with each column representing a digit\n",
    "    \"\"\"\n",
    "    Y_one_hot = np.zeros((Y.size, Y.max() + 1))\n",
    "    Y_one_hot[np.arange(Y.size), Y] = 1\n",
    "    return Y_one_hot.T\n",
    "\n",
    "\n",
    "def accuracy(y, y_hat):\n",
    "    \"\"\"\n",
    "    Calculate the accuracy of the model as the number of correct predictions divided by the total number of predictions\n",
    "    \"\"\"\n",
    "    return np.sum(y == y_hat) / y.size\n",
    "\n",
    "\n",
    "def predict(A_final):\n",
    "    \"\"\"\n",
    "    Predict the digit with the highest probability for each image\n",
    "    \"\"\"\n",
    "    return np.argmax(A_final, axis=0)\n",
    "\n",
    "\n",
    "def relu(x):\n",
    "    \"\"\"\n",
    "    Rectified Linear Unit (ReLU) activation function\n",
    "    \"\"\"\n",
    "    return np.maximum(0, x)\n",
    "\n",
    "def drelu(x):\n",
    "    \"\"\"\n",
    "    Derivative of the ReLU activation function\n",
    "    \"\"\"\n",
    "    return x > 0\n",
    "\n",
    "\n",
    "def softmax(x):\n",
    "    \"\"\"\n",
    "    Softmax activation function\n",
    "    \"\"\"\n",
    "    exp = np.exp(x - np.max(x, axis=0))\n",
    "    return exp / np.sum(exp, axis=0)\n",
    "\n",
    "\n",
    "def initialize_params(layers):\n",
    "    \"\"\"\n",
    "    Initialize the weights and biases for each layer\n",
    "    \"\"\"\n",
    "\n",
    "    # W_arr list of weight matrices\n",
    "    W_arr = [np.random.rand(layers[i], layers[i-1]) - 0.5 for i in range(1, len(layers))]\n",
    "\n",
    "    # b_arr list of bias vectors\n",
    "    b_arr = [np.random.rand(layers[i], 1) - 0.5 for i in range(1, len(layers))]\n",
    "    return W_arr, b_arr\n",
    "\n",
    "\n",
    "def prop(X, W_arr, b_arr):\n",
    "    \"\"\"\n",
    "    Forward propagation through the network\n",
    "    \"\"\"\n",
    "    Z_arr, A_arr = [], []\n",
    "    A = X\n",
    "    \n",
    "    # Loop through all layers except the last one\n",
    "    for i in range(len(W_arr)):\n",
    "\n",
    "        # Z = W * A + b\n",
    "        Z = W_arr[i] @ A + b_arr[i]\n",
    "\n",
    "        # A = g(Z) where g is the activation function\n",
    "        if i == len(W_arr) - 1:\n",
    "\n",
    "            # Use softmax for the output layer\n",
    "            A = softmax(Z)\n",
    "        else:\n",
    "\n",
    "            # Use ReLU for the hidden layers\n",
    "            A = relu(Z)\n",
    "        Z_arr.append(Z)\n",
    "        A_arr.append(A)\n",
    "\n",
    "    return Z_arr, A_arr\n",
    "\n",
    "\n",
    "def back_prop(y, X, W_arr, A_arr, Z_arr):\n",
    "    \"\"\"\n",
    "    Backward propagation through the network\n",
    "    \"\"\"\n",
    "\n",
    "    # m is the number of labels\n",
    "    m = y.size\n",
    "    inv = 1 / m\n",
    "    # dW_arr and db_arr are the gradients of the cost function with respect to W and b\n",
    "    dW_arr, db_arr = [], []\n",
    "\n",
    "    # Initial dZ\n",
    "    dZ = A_arr[-1] - one_hot(y)\n",
    "\n",
    "    # Loop through all layers\n",
    "    for i in range(len(W_arr) - 1, -1, -1):\n",
    "\n",
    "        # use X.T for the first layer, A_arr[i-1].T for the rest\n",
    "        if i == 0:\n",
    "            dW = inv * dZ @ X.T\n",
    "        else:\n",
    "            dW = inv * dZ @ A_arr[i - 1].T\n",
    "\n",
    "        # db is the mean of dZ\n",
    "        db = inv * np.sum(dZ, axis=1, keepdims=True)\n",
    "\n",
    "        # Add the gradients to the lists\n",
    "        dW_arr.append(dW)\n",
    "        db_arr.append(db)\n",
    "\n",
    "        # If we are at the first layer, break\n",
    "        if i == 0:\n",
    "            break\n",
    "\n",
    "        # Update dZ for the next iteration\n",
    "        dZ = W_arr[i].T @ dZ * drelu(Z_arr[i-1])\n",
    "\n",
    "    return dW_arr[::-1], db_arr[::-1]\n",
    "\n",
    "\n",
    "\n",
    "def update_params(W_arr, b_arr, dW_arr, db_arr, alpha):\n",
    "    \"\"\"\n",
    "    Update the weights and biases using the gradients and the learning rate\n",
    "    \"\"\"\n",
    "    for i in range(len(W_arr)):\n",
    "        W_arr[i] -= alpha * dW_arr[i]\n",
    "        b_arr[i] -= alpha * db_arr[i]\n",
    "    return W_arr, b_arr\n",
    "\n",
    "\n",
    "def descent(X, y, alpha, epochs):\n",
    "    \"\"\"\n",
    "    Perform gradient descent on the network\n",
    "    \"\"\"\n",
    "\n",
    "    # Initialize the weights and biases with the given layer sizes\n",
    "    W_arr, b_arr = initialize_params([784, 300, 200, 10])\n",
    "\n",
    "    for i in range(epochs):\n",
    "\n",
    "        # Forward and backward propagation\n",
    "        Z_arr, A_arr = prop(X, W_arr, b_arr)\n",
    "        dW_arr, db_arr = back_prop(y, X, W_arr, A_arr, Z_arr)\n",
    "\n",
    "        # Update the weights and biases\n",
    "        W_arr, b_arr = update_params(W_arr, b_arr, dW_arr, db_arr, alpha)\n",
    "\n",
    "        # Print the accuracy every 10 epochs\n",
    "        if i % 10 == 0:\n",
    "            print('Epoch: ', i)\n",
    "            print('Accuracy: ', accuracy(y, predict(A_arr[-1])))\n",
    "    return W_arr, b_arr\n",
    "\n",
    "\n",
    "X_train, y_train, X_test, y_test = load_data()\n",
    "w, b = descent(X_train, y_train, 0.1, 200)"
   ]
  },
  {
   "cell_type": "code",
   "execution_count": 16,
   "metadata": {},
   "outputs": [],
   "source": [
    "# download the w and b lists\n",
    "for i,weight in enumerate(w):\n",
    "    np.save('weight_'+str(i)+'.npy', weight)\n",
    "for i,bias in enumerate(b):\n",
    "    np.save('bias_'+str(i)+'.npy', bias)"
   ]
  },
  {
   "cell_type": "code",
   "execution_count": 19,
   "metadata": {},
   "outputs": [
    {
     "name": "stdout",
     "output_type": "stream",
     "text": [
      "Accuracy on test set:  0.8785\n",
      "Prediction:  [2]\n",
      "Label:  2\n"
     ]
    },
    {
     "data": {
      "image/png": "[encoded data removed]",
      "text/plain": [
       "<Figure size 640x480 with 1 Axes>"
      ]
     },
     "metadata": {},
     "output_type": "display_data"
    },
    {
     "name": "stdout",
     "output_type": "stream",
     "text": [
      "Prediction:  [4]\n",
      "Label:  4\n"
     ]
    },
    {
     "data": {
      "image/png": "[encoded data removed]",
      "text/plain": [
       "<Figure size 640x480 with 1 Axes>"
      ]
     },
     "metadata": {},
     "output_type": "display_data"
    },
    {
     "name": "stdout",
     "output_type": "stream",
     "text": [
      "Prediction:  [0]\n",
      "Label:  0\n"
     ]
    },
    {
     "data": {
      "image/png": "[encoded data removed]",
      "text/plain": [
       "<Figure size 640x480 with 1 Axes>"
      ]
     },
     "metadata": {},
     "output_type": "display_data"
    },
    {
     "name": "stdout",
     "output_type": "stream",
     "text": [
      "Prediction:  [1]\n",
      "Label:  1\n"
     ]
    },
    {
     "data": {
      "image/png": "[encoded data removed]",
      "text/plain": [
       "<Figure size 640x480 with 1 Axes>"
      ]
     },
     "metadata": {},
     "output_type": "display_data"
    },
    {
     "name": "stdout",
     "output_type": "stream",
     "text": [
      "Prediction:  [6]\n",
      "Label:  6\n"
     ]
    },
    {
     "data": {
      "image/png": "[encoded data removed]",
      "text/plain": [
       "<Figure size 640x480 with 1 Axes>"
      ]
     },
     "metadata": {},
     "output_type": "display_data"
    }
   ],
   "source": [
    "def make_prediction(X, W_arr, b_arr):\n",
    "    _, A_arr = prop(X, W_arr, b_arr)\n",
    "    return predict(A_arr[-1])\n",
    "\n",
    "def test_prediction(index, W_arr, b_arr):\n",
    "    current_image = X_train[:, index, None]\n",
    "    prediction = make_prediction(current_image, W_arr, b_arr)\n",
    "    label = y_train[index]\n",
    "    print(\"Prediction: \", prediction)\n",
    "    print(\"Label: \", label)\n",
    "\n",
    "    current_image = current_image.reshape((28, 28)) * 255\n",
    "    plt.gray()\n",
    "    plt.imshow(current_image, interpolation='nearest')\n",
    "    plt.show()\n",
    "# make prediction on test set\n",
    "y_hat = make_prediction(X_test, w, b)\n",
    "print('Accuracy on test set: ', accuracy(y_test, y_hat))\n",
    "for i in range(5):\n",
    "    test_prediction(i, w, b)"
   ]
  },
  {
   "cell_type": "code",
   "execution_count": 20,
   "metadata": {},
   "outputs": [
    {
     "name": "stdout",
     "output_type": "stream",
     "text": [
      "The hardest combination is (5, 8) with an accuracy of 0.8205666316894019\n",
      "The second hardest combination is (8, 9) with an accuracy of 0.829426433915212\n"
     ]
    }
   ],
   "source": [
    "X_train, y_train, X_test, y_test = load_data()\n",
    "iterating_nums = list(range(10))\n",
    "combos = list(combinations(iterating_nums, 2))\n",
    "difficulties = {}\n",
    "for i in range(len(combos)):\n",
    "    first, second = combos[i]\n",
    "    new_test = X_test[:, np.logical_or(y_test == first, y_test == second)]\n",
    "    new_label = y_test[np.logical_or(y_test == first, y_test == second)]\n",
    "\n",
    "    acc = accuracy(new_label, make_prediction(new_test, w, b))\n",
    "    # check the accuracy of the model on the test set\n",
    "    difficulties[(first, second)] = acc\n",
    "\n",
    "# find the combination with the lowest accuracy\n",
    "lowest_acc = min(difficulties.values())\n",
    "hardest_combination = list(difficulties.keys())[list(difficulties.values()).index(lowest_acc)]\n",
    "print(f'The hardest combination is {hardest_combination} with an accuracy of {lowest_acc}')\n",
    "\n",
    "# find the second hardest combination\n",
    "del difficulties[hardest_combination]\n",
    "lowest_acc = min(difficulties.values())\n",
    "hardest_combination = list(difficulties.keys())[list(difficulties.values()).index(lowest_acc)]\n",
    "print(f'The second hardest combination is {hardest_combination} with an accuracy of {lowest_acc}')\n"
   ]
  },
  {
   "cell_type": "markdown",
   "metadata": {},
   "source": [
    "## This is great, but let's compare it to XGBoost"
   ]
  },
  {
   "cell_type": "code",
   "execution_count": 22,
   "metadata": {},
   "outputs": [
    {
     "name": "stdout",
     "output_type": "stream",
     "text": [
      "Accuracy:  0.9785\n"
     ]
    }
   ],
   "source": [
    "# train an XGBoost model\n",
    "X_train, y_train, X_test, y_test = load_data()\n",
    "clf = XGBClassifier()\n",
    "clf.fit(X_train.T, y_train)\n",
    "print('Accuracy: ', clf.score(X_test.T, y_test))"
   ]
  },
  {
   "cell_type": "code",
   "execution_count": 24,
   "metadata": {},
   "outputs": [
    {
     "name": "stdout",
     "output_type": "stream",
     "text": [
      "The hardest combination is (8, 9) with an accuracy of 0.9680798004987531\n",
      "The second hardest combination is (3, 9) with an accuracy of 0.9705314009661836\n"
     ]
    }
   ],
   "source": [
    "iterating_nums = list(range(10))\n",
    "combos = list(combinations(iterating_nums, 2))\n",
    "difficulties = {}\n",
    "for i in range(len(combos)):\n",
    "    first, second = combos[i]\n",
    "    new_test = X_test[:, np.logical_or(y_test == first, y_test == second)]\n",
    "    new_label = y_test[np.logical_or(y_test == first, y_test == second)]\n",
    "\n",
    "    acc = clf.score(new_test.T, new_label)\n",
    "    difficulties[(first, second)] = acc\n",
    "\n",
    "# find the combination with the lowest accuracy\n",
    "lowest_acc = min(difficulties.values())\n",
    "hardest_combination = list(difficulties.keys())[list(difficulties.values()).index(lowest_acc)]\n",
    "print(f'The hardest combination is {hardest_combination} with an accuracy of {lowest_acc}')\n",
    "\n",
    "# find the second hardest combination\n",
    "del difficulties[hardest_combination]\n",
    "lowest_acc = min(difficulties.values())\n",
    "hardest_combination = list(difficulties.keys())[list(difficulties.values()).index(lowest_acc)]\n",
    "print(f'The second hardest combination is {hardest_combination} with an accuracy of {lowest_acc}')"
   ]
  }
 ],
 "metadata": {
  "kernelspec": {
   "display_name": "Python 3",
   "language": "python",
   "name": "python3"
  },
  "language_info": {
   "codemirror_mode": {
    "name": "ipython",
    "version": 3
   },
   "file_extension": ".py",
   "mimetype": "text/x-python",
   "name": "python",
   "nbconvert_exporter": "python",
   "pygments_lexer": "ipython3",
   "version": "3.10.13"
  }
 },
 "nbformat": 4,
 "nbformat_minor": 2
}
